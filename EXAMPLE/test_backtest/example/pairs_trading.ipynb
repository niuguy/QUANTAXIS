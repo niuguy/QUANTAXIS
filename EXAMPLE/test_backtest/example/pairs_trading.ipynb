{
 "cells": [
  {
   "cell_type": "code",
   "execution_count": 19,
   "metadata": {},
   "outputs": [],
   "source": [
    "import math\n",
    "import QUANTAXIS as QA\n",
    "import numpy as np\n",
    "import pandas as pd\n",
    "import statsmodels\n",
    "from statsmodels.tsa.stattools import coint\n",
    "from statsmodels.tsa.stattools import adfuller\n",
    "np.random.seed(107)\n",
    "import matplotlib.pyplot as plt\n",
    "from statsmodels.regression.linear_model import OLS"
   ]
  },
  {
   "cell_type": "markdown",
   "metadata": {},
   "source": [
    "## Find pairs"
   ]
  },
  {
   "cell_type": "code",
   "execution_count": 43,
   "metadata": {},
   "outputs": [],
   "source": [
    "# Get etf data\n",
    "code_list= QA.QA_fetch_stock_block_adv().get_block('新能源').code"
   ]
  },
  {
   "cell_type": "code",
   "execution_count": 63,
   "metadata": {},
   "outputs": [],
   "source": [
    "def find_pairs(code_list, start_date, end_date, method_type):\n",
    "    n = len(code_list)\n",
    "    pairs = []\n",
    "    for i in range(n):\n",
    "        for j in range(i+1, n):\n",
    "            c1 = code_list[i]\n",
    "            c2 = code_list[j]\n",
    "            S1 = QA.QA_fetch_stock_day_adv(c1, start_date, end_date).to_qfq().close\n",
    "            S2 = QA.QA_fetch_stock_day_adv(c2, start_date, end_date).to_qfq().close\n",
    "            if len(S1)!= len(S2):\n",
    "                continue\n",
    "            if methods[method_type](S1, S2):\n",
    "                pairs.append((c1, c2))\n",
    "    return pairs"
   ]
  },
  {
   "cell_type": "code",
   "execution_count": 55,
   "metadata": {},
   "outputs": [],
   "source": [
    "def ed_test(x, y):\n",
    "    result = coint(list(x), list(y))\n",
    "    score = result[0]\n",
    "    pvalue = result[1]\n",
    "    if pvalue < 0.05:\n",
    "        return True\n",
    "    return False\n",
    "    "
   ]
  },
  {
   "cell_type": "code",
   "execution_count": 56,
   "metadata": {},
   "outputs": [],
   "source": [
    "def adfuller_test(x, y):\n",
    "    ols = OLS(x.to_list(), y.to_list()).fit()\n",
    "    adf_result = adfuller(ols.resid)\n",
    "    if adf_result[0] < adf_result[4]['5%']:\n",
    "        return True\n",
    "    return False"
   ]
  },
  {
   "cell_type": "code",
   "execution_count": 57,
   "metadata": {},
   "outputs": [],
   "source": [
    "methods = {\n",
    "    'ed': ed_test,\n",
    "    'adf': adfuller_test\n",
    "}"
   ]
  },
  {
   "cell_type": "code",
   "execution_count": 71,
   "metadata": {},
   "outputs": [],
   "source": [
    "start_date = '2019-10-01'\n",
    "end_date = '2020-10-01'"
   ]
  },
  {
   "cell_type": "code",
   "execution_count": 66,
   "metadata": {},
   "outputs": [],
   "source": [
    "pairs_ed = find_pairs(code_list[:10], start_date, end_date, 'ed')"
   ]
  },
  {
   "cell_type": "code",
   "execution_count": 67,
   "metadata": {},
   "outputs": [],
   "source": [
    "pairs_adf = find_pairs(code_list[:10], start_date, end_date, 'adf')"
   ]
  },
  {
   "cell_type": "code",
   "execution_count": 69,
   "metadata": {},
   "outputs": [
    {
     "data": {
      "text/plain": [
       "[('002805', '300484'),\n",
       " ('002805', '600847'),\n",
       " ('002805', '300037'),\n",
       " ('002805', '600884'),\n",
       " ('600847', '300037'),\n",
       " ('600847', '300450'),\n",
       " ('600847', '600884'),\n",
       " ('002407', '600884')]"
      ]
     },
     "execution_count": 69,
     "metadata": {},
     "output_type": "execute_result"
    }
   ],
   "source": [
    "pairs_ed"
   ]
  },
  {
   "cell_type": "code",
   "execution_count": 70,
   "metadata": {},
   "outputs": [
    {
     "data": {
      "text/plain": [
       "[('603693', '300484'), ('002805', '600847'), ('600847', '300450')]"
      ]
     },
     "execution_count": 70,
     "metadata": {},
     "output_type": "execute_result"
    }
   ],
   "source": [
    "pairs_adf"
   ]
  },
  {
   "cell_type": "code",
   "execution_count": 73,
   "metadata": {},
   "outputs": [
    {
     "name": "stderr",
     "output_type": "stream",
     "text": [
      "QUANTAXIS>> The Pic has been saved to your path: ./QA_stock_day_None_bfq.html\n"
     ]
    }
   ],
   "source": [
    "QA.QA_fetch_stock_day_adv(list(pairs_adf[0]),start_date, end_date).plot()\n"
   ]
  },
  {
   "cell_type": "code",
   "execution_count": 74,
   "metadata": {},
   "outputs": [],
   "source": [
    "def get_ratios(code_x, code_y):\n",
    "    x = QA.QA_fetch_stock_day_adv(code_x, start_date, end_date).to_qfq().close\n",
    "    y = QA.QA_fetch_stock_day_adv(code_y, start_date, end_date).to_qfq().close\n",
    "    x.index = y.index\n",
    "    return x.div(y, axis = 'index')"
   ]
  },
  {
   "cell_type": "code",
   "execution_count": 80,
   "metadata": {},
   "outputs": [],
   "source": [
    "def plot_zscore(series):  \n",
    "    zscores = (series - series.mean()) / np.std(series)\n",
    "    zscores.plot()\n",
    "    plt.axhline(zscores.mean())\n",
    "    plt.axhline(1.0, color='red')\n",
    "    plt.axhline(-1.0, color='green')\n",
    "    plt.show()"
   ]
  },
  {
   "cell_type": "code",
   "execution_count": 75,
   "metadata": {},
   "outputs": [],
   "source": [
    "ratios = get_ratios(pairs_adf[0][0], pairs_adf[0][1])"
   ]
  },
  {
   "cell_type": "code",
   "execution_count": 81,
   "metadata": {},
   "outputs": [
    {
     "name": "stderr",
     "output_type": "stream",
     "text": [
      "/Users/feng/Tools/miniconda3/lib/python3.7/site-packages/pandas/plotting/_core.py:396: UserWarning: FixedFormatter should only be used together with FixedLocator\n",
      "  ax.set_xticklabels(xticklabels)\n"
     ]
    },
    {
     "data": {
      "image/png": "[encoded data removed]",
      "text/plain": [
       "<Figure size 432x288 with 1 Axes>"
      ]
     },
     "metadata": {
      "needs_background": "light"
     },
     "output_type": "display_data"
    }
   ],
   "source": [
    "plot_zscore(ratios)"
   ]
  },
  {
   "cell_type": "markdown",
   "metadata": {},
   "source": [
    "## Trading"
   ]
  },
  {
   "cell_type": "code",
   "execution_count": 201,
   "metadata": {},
   "outputs": [
    {
     "name": "stdout",
     "output_type": "stream",
     "text": [
      "QAACCOUNT ==> receive deal  Time 2020-02-06 00:00:00/ Code:000012/ Price:4.11/ TOWARDS:1/ Amounts:1000\n",
      "QAACCOUNT ==> receive deal  Time 2020-02-06 00:00:00/ Code:000009/ Price:6.73/ TOWARDS:-1/ Amounts:1000\n",
      "QAACCOUNT ==> receive deal  Time 2020-02-07 00:00:00/ Code:000012/ Price:4.09/ TOWARDS:1/ Amounts:1000\n",
      "QAACCOUNT ==> receive deal  Time 2020-02-07 00:00:00/ Code:000009/ Price:6.57/ TOWARDS:-1/ Amounts:1000\n",
      "QAACCOUNT ==> receive deal  Time 2020-02-10 00:00:00/ Code:000012/ Price:4.28/ TOWARDS:1/ Amounts:1000\n",
      "QAACCOUNT ==> receive deal  Time 2020-02-10 00:00:00/ Code:000009/ Price:7.23/ TOWARDS:-1/ Amounts:1000\n",
      "QAACCOUNT ==> receive deal  Time 2020-02-11 00:00:00/ Code:000012/ Price:4.51/ TOWARDS:1/ Amounts:1000\n",
      "QAACCOUNT ==> receive deal  Time 2020-02-11 00:00:00/ Code:000009/ Price:7.13/ TOWARDS:-1/ Amounts:1000\n",
      "QAACCOUNT ==> receive deal  Time 2020-02-12 00:00:00/ Code:000012/ Price:4.72/ TOWARDS:1/ Amounts:1000\n",
      "QAACCOUNT ==> receive deal  Time 2020-02-12 00:00:00/ Code:000009/ Price:7.23/ TOWARDS:-1/ Amounts:1000\n",
      "QAACCOUNT ==> receive deal  Time 2020-03-10 00:00:00/ Code:000012/ Price:5.36/ TOWARDS:-1/ Amounts:1000\n",
      "QAACCOUNT ==> receive deal  Time 2020-03-10 00:00:00/ Code:000009/ Price:7.68/ TOWARDS:1/ Amounts:1000\n",
      "QAACCOUNT ==> receive deal  Time 2020-03-11 00:00:00/ Code:000012/ Price:5.13/ TOWARDS:-1/ Amounts:1000\n",
      "QAACCOUNT ==> receive deal  Time 2020-03-11 00:00:00/ Code:000009/ Price:7.34/ TOWARDS:1/ Amounts:1000\n",
      "QAACCOUNT ==> receive deal  Time 2020-03-17 00:00:00/ Code:000012/ Price:4.68/ TOWARDS:-1/ Amounts:1000\n",
      "QAACCOUNT ==> receive deal  Time 2020-03-17 00:00:00/ Code:000009/ Price:6.38/ TOWARDS:1/ Amounts:1000\n",
      "QAACCOUNT ==> receive deal  Time 2020-03-18 00:00:00/ Code:000012/ Price:4.6/ TOWARDS:-1/ Amounts:1000\n",
      "QAACCOUNT ==> receive deal  Time 2020-03-18 00:00:00/ Code:000009/ Price:6.19/ TOWARDS:1/ Amounts:1000\n",
      "QAACCOUNT ==> receive deal  Time 2020-03-19 00:00:00/ Code:000012/ Price:4.73/ TOWARDS:-1/ Amounts:1000\n",
      "QAACCOUNT ==> receive deal  Time 2020-03-19 00:00:00/ Code:000009/ Price:6.26/ TOWARDS:1/ Amounts:1000\n",
      "QAACCOUNT ==> receive deal  Time 2020-03-20 00:00:00/ Code:000012/ Price:4.72/ TOWARDS:-1/ Amounts:1000\n",
      "QAACCOUNT ==> receive deal  Time 2020-03-20 00:00:00/ Code:000009/ Price:6.39/ TOWARDS:1/ Amounts:1000\n",
      "QAACCOUNT ==> receive deal  Time 2020-03-23 00:00:00/ Code:000012/ Price:4.48/ TOWARDS:-1/ Amounts:1000\n",
      "QAACCOUNT ==> receive deal  Time 2020-03-23 00:00:00/ Code:000009/ Price:5.77/ TOWARDS:1/ Amounts:1000\n",
      "QAACCOUNT ==> receive deal  Time 2020-03-24 00:00:00/ Code:000012/ Price:4.55/ TOWARDS:-1/ Amounts:1000\n",
      "QAACCOUNT ==> receive deal  Time 2020-03-24 00:00:00/ Code:000009/ Price:6.25/ TOWARDS:1/ Amounts:1000\n",
      "QAACCOUNT ==> receive deal  Time 2020-03-25 00:00:00/ Code:000012/ Price:4.69/ TOWARDS:-1/ Amounts:1000\n",
      "QAACCOUNT ==> receive deal  Time 2020-03-25 00:00:00/ Code:000009/ Price:6.43/ TOWARDS:1/ Amounts:1000\n",
      "QAACCOUNT ==> receive deal  Time 2020-04-08 00:00:00/ Code:000012/ Price:4.52/ TOWARDS:1/ Amounts:1000\n",
      "QAACCOUNT ==> receive deal  Time 2020-04-08 00:00:00/ Code:000009/ Price:6.35/ TOWARDS:-1/ Amounts:1000\n",
      "QAACCOUNT ==> receive deal  Time 2020-04-09 00:00:00/ Code:000012/ Price:4.55/ TOWARDS:1/ Amounts:1000\n",
      "QAACCOUNT ==> receive deal  Time 2020-04-09 00:00:00/ Code:000009/ Price:6.37/ TOWARDS:-1/ Amounts:1000\n",
      "QAACCOUNT ==> receive deal  Time 2020-04-10 00:00:00/ Code:000012/ Price:4.44/ TOWARDS:1/ Amounts:1000\n",
      "QAACCOUNT ==> receive deal  Time 2020-04-10 00:00:00/ Code:000009/ Price:6.16/ TOWARDS:-1/ Amounts:1000\n",
      "QAACCOUNT ==> receive deal  Time 2020-04-21 00:00:00/ Code:000012/ Price:4.34/ TOWARDS:1/ Amounts:1000\n",
      "QAACCOUNT ==> receive deal  Time 2020-04-21 00:00:00/ Code:000009/ Price:6.28/ TOWARDS:-1/ Amounts:1000\n",
      "QAACCOUNT ==> receive deal  Time 2020-04-22 00:00:00/ Code:000012/ Price:4.41/ TOWARDS:1/ Amounts:1000\n",
      "QAACCOUNT ==> receive deal  Time 2020-04-22 00:00:00/ Code:000009/ Price:6.26/ TOWARDS:-1/ Amounts:1000\n",
      "QAACCOUNT ==> receive deal  Time 2020-04-23 00:00:00/ Code:000012/ Price:4.36/ TOWARDS:1/ Amounts:1000\n",
      "QAACCOUNT ==> receive deal  Time 2020-04-23 00:00:00/ Code:000009/ Price:6.27/ TOWARDS:-1/ Amounts:1000\n",
      "QAACCOUNT ==> receive deal  Time 2020-04-29 00:00:00/ Code:000012/ Price:4.28/ TOWARDS:1/ Amounts:1000\n",
      "QAACCOUNT ==> receive deal  Time 2020-04-29 00:00:00/ Code:000009/ Price:6.26/ TOWARDS:-1/ Amounts:1000\n",
      "QAACCOUNT ==> receive deal  Time 2020-04-30 00:00:00/ Code:000012/ Price:4.41/ TOWARDS:1/ Amounts:1000\n",
      "QAACCOUNT ==> receive deal  Time 2020-04-30 00:00:00/ Code:000009/ Price:6.54/ TOWARDS:-1/ Amounts:1000\n",
      "QAACCOUNT ==> receive deal  Time 2020-05-06 00:00:00/ Code:000012/ Price:4.44/ TOWARDS:1/ Amounts:1000\n",
      "QAACCOUNT ==> receive deal  Time 2020-05-06 00:00:00/ Code:000009/ Price:6.72/ TOWARDS:-1/ Amounts:1000\n",
      "QAACCOUNT ==> receive deal  Time 2020-05-07 00:00:00/ Code:000012/ Price:4.49/ TOWARDS:1/ Amounts:1000\n",
      "QAACCOUNT ==> receive deal  Time 2020-05-07 00:00:00/ Code:000009/ Price:7.11/ TOWARDS:-1/ Amounts:1000\n",
      "QAACCOUNT ==> receive deal  Time 2020-05-08 00:00:00/ Code:000012/ Price:4.61/ TOWARDS:1/ Amounts:1000\n",
      "QAACCOUNT ==> receive deal  Time 2020-05-08 00:00:00/ Code:000009/ Price:7.41/ TOWARDS:-1/ Amounts:1000\n",
      "QAACCOUNT ==> receive deal  Time 2020-05-11 00:00:00/ Code:000012/ Price:4.68/ TOWARDS:1/ Amounts:1000\n",
      "QAACCOUNT ==> receive deal  Time 2020-05-11 00:00:00/ Code:000009/ Price:7.28/ TOWARDS:-1/ Amounts:1000\n",
      "QAACCOUNT ==> receive deal  Time 2020-05-12 00:00:00/ Code:000012/ Price:4.64/ TOWARDS:1/ Amounts:1000\n",
      "QAACCOUNT ==> receive deal  Time 2020-05-12 00:00:00/ Code:000009/ Price:7.32/ TOWARDS:-1/ Amounts:1000\n",
      "QAACCOUNT ==> receive deal  Time 2020-05-13 00:00:00/ Code:000012/ Price:4.6/ TOWARDS:1/ Amounts:1000\n",
      "QAACCOUNT ==> receive deal  Time 2020-05-13 00:00:00/ Code:000009/ Price:7.34/ TOWARDS:-1/ Amounts:1000\n",
      "QAACCOUNT ==> receive deal  Time 2020-05-14 00:00:00/ Code:000012/ Price:4.52/ TOWARDS:1/ Amounts:1000\n",
      "QAACCOUNT ==> receive deal  Time 2020-05-14 00:00:00/ Code:000009/ Price:7.1/ TOWARDS:-1/ Amounts:1000\n",
      "QAACCOUNT ==> receive deal  Time 2020-05-15 00:00:00/ Code:000012/ Price:4.51/ TOWARDS:1/ Amounts:1000\n",
      "QAACCOUNT ==> receive deal  Time 2020-05-15 00:00:00/ Code:000009/ Price:7.22/ TOWARDS:-1/ Amounts:1000\n"
     ]
    }
   ],
   "source": [
    "# 策略名称\n",
    "strategy_name = 'PAIRS'\n",
    "# 用户cookie\n",
    "user_cookie = 'user1'\n",
    "# 组合cookie\n",
    "portfolio_cookie = 'win300'\n",
    "# 账户cookie\n",
    "account_cookie = 'bba'\n",
    "benchmark_code = '000300'\n",
    "initial_cash = 200000\n",
    "initial_hold = {'000009':100000, '000012':100000}\n",
    "# 交易佣金\n",
    "commission_coeff = 0.00025\n",
    "# 印花税\n",
    "tax_coeff = 0.0015\n",
    "\n",
    "backtest_start_date = '2020-01-01'\n",
    "backtest_end_date = '2020-06-01'\n",
    "\n",
    "Broker = QA.QA_BacktestBroker()\n",
    "AC = QA.QA_Account(\n",
    "    strategy_name=strategy_name,\n",
    "    user_cookie=user_cookie,\n",
    "    portfolio_cookie=portfolio_cookie,\n",
    "    account_cookie=account_cookie,\n",
    "    init_hold=initial_hold,\n",
    "    init_cash=initial_cash,\n",
    "    commission_coeff=commission_coeff,\n",
    "    tax_coeff=tax_coeff,\n",
    "    market_type=QA.MARKET_TYPE.STOCK_CN,\n",
    "    frequence=QA.FREQUENCE.DAY\n",
    ")\n",
    "\n",
    "window1=5\n",
    "window2=20\n",
    "#     ratios = S1/S2\n",
    "ma1 = ratios.rolling(window=window1,\n",
    "                       center=False).mean()\n",
    "ma2 = ratios.rolling(window=window2,\n",
    "                       center=False).mean()\n",
    "std = ratios.rolling(window=window2,\n",
    "                center=False).std()\n",
    "zscore = (ma1 - ma2)/std\n",
    "i = 0\n",
    "for items in DATA.panel_gen:\n",
    "    item1 = items.select_code('000009')\n",
    "    item2 = items.select_code('000012')\n",
    "    if zscore[i] > 1:\n",
    "        order1 = AC.send_order(\n",
    "            code=\"000012\",\n",
    "            time=ratios.index[i][0],\n",
    "            amount=1000,\n",
    "            towards=QA.ORDER_DIRECTION.BUY,\n",
    "            price=0,\n",
    "            order_model=QA.ORDER_MODEL.CLOSE,\n",
    "            amount_model=QA.AMOUNT_MODEL.BY_AMOUNT\n",
    "        )\n",
    "        if order1:\n",
    "            Broker.receive_order(QA.QA_Event(order=order1,market_data=item2))\n",
    "            trade_mes=Broker.query_orders(AC.account_cookie,'filled')\n",
    "            res=trade_mes.loc[order1.account_cookie,order1.realorder_id]\n",
    "            order1.trade(res.trade_id,res.trade_price,res.trade_amount,res.trade_time)\n",
    "        order2 = AC.send_order(\n",
    "            code=\"000009\",\n",
    "            time=ratios.index[i][0],\n",
    "            amount=1000,\n",
    "            towards=QA.ORDER_DIRECTION.SELL,\n",
    "            price=0,\n",
    "            order_model=QA.ORDER_MODEL.CLOSE,\n",
    "            amount_model=QA.AMOUNT_MODEL.BY_AMOUNT\n",
    "        )\n",
    "        if order2:\n",
    "            Broker.receive_order(QA.QA_Event(order=order2,market_data=item1))\n",
    "            trade_mes=Broker.query_orders(AC.account_cookie,'filled')\n",
    "            res=trade_mes.loc[order2.account_cookie,order2.realorder_id]\n",
    "            order2.trade(res.trade_id,res.trade_price,res.trade_amount,res.trade_time)            \n",
    "        \n",
    "    if zscore[i] < -1:\n",
    "        order1 = AC.send_order(\n",
    "            code=\"000012\",\n",
    "            time=ratios.index[i][0],\n",
    "            amount=1000,\n",
    "            towards=QA.ORDER_DIRECTION.SELL,\n",
    "            price=0,\n",
    "            order_model=QA.ORDER_MODEL.CLOSE,\n",
    "            amount_model=QA.AMOUNT_MODEL.BY_AMOUNT\n",
    "        )\n",
    "        if order1:\n",
    "            Broker.receive_order(QA.QA_Event(order=order1,market_data=item2))\n",
    "            trade_mes=Broker.query_orders(AC.account_cookie,'filled')\n",
    "            res=trade_mes.loc[order1.account_cookie,order1.realorder_id]\n",
    "            order1.trade(res.trade_id,res.trade_price,res.trade_amount,res.trade_time)\n",
    "        order2 = AC.send_order(\n",
    "            code=\"000009\",\n",
    "            time=ratios.index[i][0],\n",
    "            amount=1000,\n",
    "            towards=QA.ORDER_DIRECTION.BUY,\n",
    "            price=0,\n",
    "            order_model=QA.ORDER_MODEL.CLOSE,\n",
    "            amount_model=QA.AMOUNT_MODEL.BY_AMOUNT\n",
    "        )\n",
    "        if order2:\n",
    "            Broker.receive_order(QA.QA_Event(order=order2,market_data=item1))\n",
    "            trade_mes=Broker.query_orders(AC.account_cookie,'filled')\n",
    "            res=trade_mes.loc[order2.account_cookie,order2.realorder_id]\n",
    "            order2.trade(res.trade_id,res.trade_price,res.trade_amount,res.trade_time)            \n",
    "    i+=1\n",
    "    AC.settle()\n",
    "\n",
    "    "
   ]
  },
  {
   "cell_type": "code",
   "execution_count": 206,
   "metadata": {},
   "outputs": [
    {
     "data": {
      "text/plain": [
       "<AxesSubplot:xlabel='date'>"
      ]
     },
     "execution_count": 206,
     "metadata": {},
     "output_type": "execute_result"
    },
    {
     "data": {
      "image/png": "[encoded data removed]",
      "text/plain": [
       "<Figure size 432x288 with 1 Axes>"
      ]
     },
     "metadata": {
      "needs_background": "light"
     },
     "output_type": "display_data"
    }
   ],
   "source": [
    "AC.daily_cash.plot()"
   ]
  },
  {
   "cell_type": "code",
   "execution_count": 209,
   "metadata": {},
   "outputs": [
    {
     "data": {
      "text/plain": [
       "{'account_cookie': 'bba',\n",
       " 'portfolio_cookie': 'win300',\n",
       " 'user_cookie': 'user1',\n",
       " 'annualize_return': 2.76,\n",
       " 'profit': 0.75,\n",
       " 'max_dropback': 0.29,\n",
       " 'time_gap': 68,\n",
       " 'volatility': 1.97,\n",
       " 'benchmark_code': '000300',\n",
       " 'bm_annualizereturn': 0.01,\n",
       " 'bm_profit': 0.0,\n",
       " 'beta': 0.69,\n",
       " 'alpha': 2.75,\n",
       " 'sharpe': 1.38,\n",
       " 'sortino': -2.18,\n",
       " 'init_cash': '213444.67',\n",
       " 'last_assets': '373776.62',\n",
       " 'total_tax': -278.73,\n",
       " 'total_commission': -300.0,\n",
       " 'profit_money': 160331.95,\n",
       " 'assets': [213444.668982707,\n",
       "  226390.945860922,\n",
       "  242522.58792604198,\n",
       "  257141.20454122798,\n",
       "  272851.928708545,\n",
       "  273039.43917326,\n",
       "  271057.62692835496,\n",
       "  272450.658851325,\n",
       "  276632.60776456,\n",
       "  278906.812969405,\n",
       "  279355.10310002,\n",
       "  280251.68336125,\n",
       "  282381.40397271997,\n",
       "  288434.00571811997,\n",
       "  285102.75805045,\n",
       "  281338.62723152,\n",
       "  274981.07869114995,\n",
       "  278104.27325496497,\n",
       "  278304.90818357497,\n",
       "  278353.64034356497,\n",
       "  280380.76097526995,\n",
       "  281375.376185345,\n",
       "  277606.10970663,\n",
       "  262918.22402521595,\n",
       "  245918.50138791197,\n",
       "  244455.98905745297,\n",
       "  243772.18679806398,\n",
       "  241476.59433237498,\n",
       "  228930.03481877,\n",
       "  215977.30840210998,\n",
       "  203640.91499999998,\n",
       "  213070.814324013,\n",
       "  221131.235632932,\n",
       "  231329.82114355697,\n",
       "  241682.440539504,\n",
       "  239972.729510132,\n",
       "  239614.09740563997,\n",
       "  238266.67050549597,\n",
       "  237948.85014136398,\n",
       "  238785.81055287598,\n",
       "  240057.54851249597,\n",
       "  240179.52723048397,\n",
       "  241210.50327577197,\n",
       "  231593.75662993797,\n",
       "  222623.254834094,\n",
       "  213086.540427142,\n",
       "  212867.896269585,\n",
       "  213246.135363846,\n",
       "  213245.678860754,\n",
       "  213156.819715042,\n",
       "  213326.046957971,\n",
       "  213395.52736546,\n",
       "  204405.51499999998,\n",
       "  216907.89558926897,\n",
       "  229391.60496791598,\n",
       "  229014.16475406598,\n",
       "  229631.22562451797,\n",
       "  229692.89973814998,\n",
       "  241718.08001473796,\n",
       "  256001.76691400397,\n",
       "  270258.37852803,\n",
       "  286647.793916062,\n",
       "  304017.17637014,\n",
       "  318137.01142676,\n",
       "  332765.423882933,\n",
       "  347255.22567440994,\n",
       "  358151.31156690593,\n",
       "  373776.61944643594],\n",
       " 'benchmark_assets': [213444.668982707,\n",
       "  213449.59490678692,\n",
       "  214332.97729178835,\n",
       "  216327.97654416147,\n",
       "  218077.77424233346,\n",
       "  216736.2809178982,\n",
       "  218258.3914585977,\n",
       "  223167.34846670044,\n",
       "  222077.6245952396,\n",
       "  221738.28315862193,\n",
       "  226847.56107930868,\n",
       "  227111.91900493175,\n",
       "  226200.62305014403,\n",
       "  225708.57796704845,\n",
       "  222926.52551168148,\n",
       "  223575.65284043716,\n",
       "  215648.7463460284,\n",
       "  222743.17167092836,\n",
       "  223930.31937419242,\n",
       "  225226.9320570105,\n",
       "  230244.80671976955,\n",
       "  226510.9562671799,\n",
       "  218772.8768625019,\n",
       "  223457.97798741653,\n",
       "  220486.00379252326,\n",
       "  216243.14118500706,\n",
       "  213200.0147534036,\n",
       "  204033.96469044266,\n",
       "  203040.02267609158,\n",
       "  199021.56327666127,\n",
       "  196439.83173387827,\n",
       "  199949.82630327987,\n",
       "  193222.65598478384,\n",
       "  198411.29601564727,\n",
       "  203742.78784482877,\n",
       "  202403.4838199846,\n",
       "  203060.82102220686,\n",
       "  201093.18801472225,\n",
       "  201752.71451653558,\n",
       "  201146.27852980598,\n",
       "  204400.12504705106,\n",
       "  203233.7756899023,\n",
       "  207875.09082299535,\n",
       "  206907.42040373728,\n",
       "  207589.93455125694,\n",
       "  206296.60581782548,\n",
       "  205425.26458057502,\n",
       "  209390.0861400238,\n",
       "  207838.9673797425,\n",
       "  208113.72447842325,\n",
       "  210144.8471740492,\n",
       "  210909.46005623447,\n",
       "  208424.05769545908,\n",
       "  210138.82660017375,\n",
       "  209611.75272362083,\n",
       "  207817.62170872945,\n",
       "  209229.71994497709,\n",
       "  210673.56302529544,\n",
       "  211652.1799425089,\n",
       "  214145.2448518531,\n",
       "  215440.76288487564,\n",
       "  214819.00180100848,\n",
       "  216938.79113007322,\n",
       "  216750.5113652402,\n",
       "  216753.79531462683,\n",
       "  217192.20255774094,\n",
       "  214837.0635226349,\n",
       "  214158.3806493996],\n",
       " 'timeindex': ['2020-02-06',\n",
       "  '2020-02-07',\n",
       "  '2020-02-10',\n",
       "  '2020-02-11',\n",
       "  '2020-02-12',\n",
       "  '2020-03-10',\n",
       "  '2020-03-11',\n",
       "  '2020-03-17',\n",
       "  '2020-03-18',\n",
       "  '2020-03-19',\n",
       "  '2020-03-20',\n",
       "  '2020-03-23',\n",
       "  '2020-03-24',\n",
       "  '2020-03-25',\n",
       "  '2020-04-08',\n",
       "  '2020-04-09',\n",
       "  '2020-04-10',\n",
       "  '2020-04-21',\n",
       "  '2020-04-22',\n",
       "  '2020-04-23',\n",
       "  '2020-04-29',\n",
       "  '2020-04-30',\n",
       "  '2020-05-06',\n",
       "  '2020-05-07',\n",
       "  '2020-05-08',\n",
       "  '2020-05-11',\n",
       "  '2020-05-12',\n",
       "  '2020-05-13',\n",
       "  '2020-05-14',\n",
       "  '2020-05-15'],\n",
       " 'totaltimeindex': ['2020-02-06',\n",
       "  '2020-02-07',\n",
       "  '2020-02-10',\n",
       "  '2020-02-11',\n",
       "  '2020-02-12',\n",
       "  '2020-02-13',\n",
       "  '2020-02-14',\n",
       "  '2020-02-17',\n",
       "  '2020-02-18',\n",
       "  '2020-02-19',\n",
       "  '2020-02-20',\n",
       "  '2020-02-21',\n",
       "  '2020-02-24',\n",
       "  '2020-02-25',\n",
       "  '2020-02-26',\n",
       "  '2020-02-27',\n",
       "  '2020-02-28',\n",
       "  '2020-03-02',\n",
       "  '2020-03-03',\n",
       "  '2020-03-04',\n",
       "  '2020-03-05',\n",
       "  '2020-03-06',\n",
       "  '2020-03-09',\n",
       "  '2020-03-10',\n",
       "  '2020-03-11',\n",
       "  '2020-03-12',\n",
       "  '2020-03-13',\n",
       "  '2020-03-16',\n",
       "  '2020-03-17',\n",
       "  '2020-03-18',\n",
       "  '2020-03-19',\n",
       "  '2020-03-20',\n",
       "  '2020-03-23',\n",
       "  '2020-03-24',\n",
       "  '2020-03-25',\n",
       "  '2020-03-26',\n",
       "  '2020-03-27',\n",
       "  '2020-03-30',\n",
       "  '2020-03-31',\n",
       "  '2020-04-01',\n",
       "  '2020-04-02',\n",
       "  '2020-04-03',\n",
       "  '2020-04-07',\n",
       "  '2020-04-08',\n",
       "  '2020-04-09',\n",
       "  '2020-04-10',\n",
       "  '2020-04-13',\n",
       "  '2020-04-14',\n",
       "  '2020-04-15',\n",
       "  '2020-04-16',\n",
       "  '2020-04-17',\n",
       "  '2020-04-20',\n",
       "  '2020-04-21',\n",
       "  '2020-04-22',\n",
       "  '2020-04-23',\n",
       "  '2020-04-24',\n",
       "  '2020-04-27',\n",
       "  '2020-04-28',\n",
       "  '2020-04-29',\n",
       "  '2020-04-30',\n",
       "  '2020-05-06',\n",
       "  '2020-05-07',\n",
       "  '2020-05-08',\n",
       "  '2020-05-11',\n",
       "  '2020-05-12',\n",
       "  '2020-05-13',\n",
       "  '2020-05-14',\n",
       "  '2020-05-15'],\n",
       " 'ir': 1.4,\n",
       " 'month_profit': {'2020-02-29 00:00:00': 61536.40970844295,\n",
       "  '2020-03-31 00:00:00': -37032.22854978597,\n",
       "  '2020-04-30 00:00:00': 18052.91677263999,\n",
       "  '2020-05-31 00:00:00': 117774.85253243198}}"
      ]
     },
     "execution_count": 209,
     "metadata": {},
     "output_type": "execute_result"
    }
   ],
   "source": [
    "QA.QA_Risk(AC).message"
   ]
  },
  {
   "cell_type": "code",
   "execution_count": 210,
   "metadata": {},
   "outputs": [],
   "source": [
    "AC.save()"
   ]
  },
  {
   "cell_type": "code",
   "execution_count": 211,
   "metadata": {},
   "outputs": [
    {
     "name": "stdout",
     "output_type": "stream",
     "text": [
      "{'account_cookie': 'bba', 'portfolio_cookie': 'win300', 'user_cookie': 'user1', 'annualize_return': 2.78, 'profit': 0.76, 'max_dropback': 0.3, 'time_gap': 68, 'volatility': 1.97, 'benchmark_code': '000300', 'bm_annualizereturn': 0.01, 'bm_profit': 0.0, 'beta': 0.7, 'alpha': 2.77, 'sharpe': 1.39, 'sortino': -2.16, 'init_cash': '213519.90', 'last_assets': '374761.27', 'total_tax': -278.73, 'total_commission': -300.0, 'profit_money': 161241.36, 'assets': [213519.905, 226540.05, 242759.205, 257468.50999999998, 273277.665, 273477.665, 271477.665, 272877.665, 277077.665, 279377.665, 279827.665, 280727.665, 282877.665, 288977.665, 285627.665, 281827.665, 275427.665, 278577.665, 278777.665, 278827.665, 280877.665, 281877.665, 278077.665, 263299.625, 246191.92999999996, 244721.92999999996, 244031.92999999996, 241721.92999999996, 229094.90999999997, 216058.00999999998, 203640.91499999998, 213153.835, 221287.115, 231570.28999999998, 242013.25499999998, 240293.25499999998, 239933.25499999998, 238573.25499999998, 238253.25499999998, 239093.25499999998, 240373.25499999998, 240493.25499999998, 241533.25499999998, 231833.72999999998, 222784.175, 213164.935, 212944.935, 213324.935, 213324.935, 213234.935, 213404.935, 213474.935, 204405.51499999998, 216986.12499999997, 229546.71999999997, 229166.71999999997, 229786.71999999997, 229846.71999999997, 241947.32999999996, 256317.51999999996, 270657.43999999994, 287136.77499999997, 304605.66, 318814.74, 333523.75999999995, 348092.74999999994, 359052.1, 374761.26999999996], 'benchmark_assets': [213519.905, 213524.83266039367, 214408.5264243239, 216404.22888375755, 218154.643359151, 216812.6771786101, 218335.32424025203, 223246.01158144817, 222155.90359880557, 221816.44254946432, 226927.52141333613, 227191.97252112938, 226280.35534830167, 225788.13682675688, 223005.1037399802, 223654.45987630068, 215724.75926725354, 222821.6852697716, 224009.25142464446, 225306.32114382094, 230325.9645314992, 226590.7979531025, 218849.99099247908, 223536.7435446743, 220563.72177383082, 216319.3636214222, 213275.16453378138, 204105.88357681717, 203111.5912129402, 199091.71536735405, 196509.07380325298, 200020.3055926488, 193290.76404836937, 198481.23299636133, 203814.6040957695, 202474.8279865146, 203132.3968901579, 201164.0703218002, 201823.82929672953, 201217.17955048743, 204472.17299941278, 203305.41252175762, 207948.36364823143, 206980.35213978737, 207663.10686322046, 206369.3222509731, 205497.67387911625, 209463.89297819362, 207912.22747201123, 208187.08141841332, 210218.92005406713, 210983.802450728, 208497.52402321412, 210212.89735803046, 209685.63769590846, 207890.87427697203, 209303.47025648883, 210747.82226965367, 211726.7841345281, 214220.7278115432, 215516.70249507664, 214894.72224983203, 217015.25877257175, 216826.9126419695, 216830.19774889862, 217268.75952393468, 214912.79033794213, 214233.86823925964], 'timeindex': ['2020-02-06', '2020-02-07', '2020-02-10', '2020-02-11', '2020-02-12', '2020-03-10', '2020-03-11', '2020-03-17', '2020-03-18', '2020-03-19', '2020-03-20', '2020-03-23', '2020-03-24', '2020-03-25', '2020-04-08', '2020-04-09', '2020-04-10', '2020-04-21', '2020-04-22', '2020-04-23', '2020-04-29', '2020-04-30', '2020-05-06', '2020-05-07', '2020-05-08', '2020-05-11', '2020-05-12', '2020-05-13', '2020-05-14', '2020-05-15'], 'totaltimeindex': ['2020-02-06', '2020-02-07', '2020-02-10', '2020-02-11', '2020-02-12', '2020-02-13', '2020-02-14', '2020-02-17', '2020-02-18', '2020-02-19', '2020-02-20', '2020-02-21', '2020-02-24', '2020-02-25', '2020-02-26', '2020-02-27', '2020-02-28', '2020-03-02', '2020-03-03', '2020-03-04', '2020-03-05', '2020-03-06', '2020-03-09', '2020-03-10', '2020-03-11', '2020-03-12', '2020-03-13', '2020-03-16', '2020-03-17', '2020-03-18', '2020-03-19', '2020-03-20', '2020-03-23', '2020-03-24', '2020-03-25', '2020-03-26', '2020-03-27', '2020-03-30', '2020-03-31', '2020-04-01', '2020-04-02', '2020-04-03', '2020-04-07', '2020-04-08', '2020-04-09', '2020-04-10', '2020-04-13', '2020-04-14', '2020-04-15', '2020-04-16', '2020-04-17', '2020-04-20', '2020-04-21', '2020-04-22', '2020-04-23', '2020-04-24', '2020-04-27', '2020-04-28', '2020-04-29', '2020-04-30', '2020-05-06', '2020-05-07', '2020-05-08', '2020-05-11', '2020-05-12', '2020-05-13', '2020-05-14', '2020-05-15'], 'ir': 1.41, 'month_profit': {'2020-02-29 00:00:00': 61907.75999999998, '2020-03-31 00:00:00': -37174.41, '2020-04-30 00:00:00': 18064.264999999985, '2020-05-31 00:00:00': 118443.75}}\n"
     ]
    },
    {
     "name": "stderr",
     "output_type": "stream",
     "text": [
      "/Users/feng/Tools/miniconda3/lib/python3.7/site-packages/pandas/plotting/_tools.py:307: MatplotlibDeprecationWarning: \n",
      "The rowNum attribute was deprecated in Matplotlib 3.2 and will be removed two minor releases later. Use ax.get_subplotspec().rowspan.start instead.\n",
      "  layout[ax.rowNum, ax.colNum] = ax.get_visible()\n",
      "/Users/feng/Tools/miniconda3/lib/python3.7/site-packages/pandas/plotting/_tools.py:307: MatplotlibDeprecationWarning: \n",
      "The colNum attribute was deprecated in Matplotlib 3.2 and will be removed two minor releases later. Use ax.get_subplotspec().colspan.start instead.\n",
      "  layout[ax.rowNum, ax.colNum] = ax.get_visible()\n",
      "/Users/feng/Tools/miniconda3/lib/python3.7/site-packages/pandas/plotting/_tools.py:307: MatplotlibDeprecationWarning: \n",
      "The rowNum attribute was deprecated in Matplotlib 3.2 and will be removed two minor releases later. Use ax.get_subplotspec().rowspan.start instead.\n",
      "  layout[ax.rowNum, ax.colNum] = ax.get_visible()\n",
      "/Users/feng/Tools/miniconda3/lib/python3.7/site-packages/pandas/plotting/_tools.py:307: MatplotlibDeprecationWarning: \n",
      "The colNum attribute was deprecated in Matplotlib 3.2 and will be removed two minor releases later. Use ax.get_subplotspec().colspan.start instead.\n",
      "  layout[ax.rowNum, ax.colNum] = ax.get_visible()\n",
      "/Users/feng/Tools/miniconda3/lib/python3.7/site-packages/pandas/plotting/_tools.py:313: MatplotlibDeprecationWarning: \n",
      "The rowNum attribute was deprecated in Matplotlib 3.2 and will be removed two minor releases later. Use ax.get_subplotspec().rowspan.start instead.\n",
      "  if not layout[ax.rowNum + 1, ax.colNum]:\n",
      "/Users/feng/Tools/miniconda3/lib/python3.7/site-packages/pandas/plotting/_tools.py:313: MatplotlibDeprecationWarning: \n",
      "The colNum attribute was deprecated in Matplotlib 3.2 and will be removed two minor releases later. Use ax.get_subplotspec().colspan.start instead.\n",
      "  if not layout[ax.rowNum + 1, ax.colNum]:\n",
      "/Users/feng/Tools/miniconda3/lib/python3.7/site-packages/pandas/plotting/_tools.py:313: MatplotlibDeprecationWarning: \n",
      "The rowNum attribute was deprecated in Matplotlib 3.2 and will be removed two minor releases later. Use ax.get_subplotspec().rowspan.start instead.\n",
      "  if not layout[ax.rowNum + 1, ax.colNum]:\n",
      "/Users/feng/Tools/miniconda3/lib/python3.7/site-packages/pandas/plotting/_tools.py:313: MatplotlibDeprecationWarning: \n",
      "The colNum attribute was deprecated in Matplotlib 3.2 and will be removed two minor releases later. Use ax.get_subplotspec().colspan.start instead.\n",
      "  if not layout[ax.rowNum + 1, ax.colNum]:\n",
      "/Users/feng/Tools/miniconda3/lib/python3.7/site-packages/pandas/plotting/_tools.py:307: MatplotlibDeprecationWarning: \n",
      "The rowNum attribute was deprecated in Matplotlib 3.2 and will be removed two minor releases later. Use ax.get_subplotspec().rowspan.start instead.\n",
      "  layout[ax.rowNum, ax.colNum] = ax.get_visible()\n",
      "/Users/feng/Tools/miniconda3/lib/python3.7/site-packages/pandas/plotting/_tools.py:307: MatplotlibDeprecationWarning: \n",
      "The colNum attribute was deprecated in Matplotlib 3.2 and will be removed two minor releases later. Use ax.get_subplotspec().colspan.start instead.\n",
      "  layout[ax.rowNum, ax.colNum] = ax.get_visible()\n",
      "/Users/feng/Tools/miniconda3/lib/python3.7/site-packages/pandas/plotting/_tools.py:307: MatplotlibDeprecationWarning: \n",
      "The rowNum attribute was deprecated in Matplotlib 3.2 and will be removed two minor releases later. Use ax.get_subplotspec().rowspan.start instead.\n",
      "  layout[ax.rowNum, ax.colNum] = ax.get_visible()\n",
      "/Users/feng/Tools/miniconda3/lib/python3.7/site-packages/pandas/plotting/_tools.py:307: MatplotlibDeprecationWarning: \n",
      "The colNum attribute was deprecated in Matplotlib 3.2 and will be removed two minor releases later. Use ax.get_subplotspec().colspan.start instead.\n",
      "  layout[ax.rowNum, ax.colNum] = ax.get_visible()\n",
      "/Users/feng/Tools/miniconda3/lib/python3.7/site-packages/pandas/plotting/_tools.py:313: MatplotlibDeprecationWarning: \n",
      "The rowNum attribute was deprecated in Matplotlib 3.2 and will be removed two minor releases later. Use ax.get_subplotspec().rowspan.start instead.\n",
      "  if not layout[ax.rowNum + 1, ax.colNum]:\n",
      "/Users/feng/Tools/miniconda3/lib/python3.7/site-packages/pandas/plotting/_tools.py:313: MatplotlibDeprecationWarning: \n",
      "The colNum attribute was deprecated in Matplotlib 3.2 and will be removed two minor releases later. Use ax.get_subplotspec().colspan.start instead.\n",
      "  if not layout[ax.rowNum + 1, ax.colNum]:\n",
      "/Users/feng/Tools/miniconda3/lib/python3.7/site-packages/pandas/plotting/_tools.py:313: MatplotlibDeprecationWarning: \n",
      "The rowNum attribute was deprecated in Matplotlib 3.2 and will be removed two minor releases later. Use ax.get_subplotspec().rowspan.start instead.\n",
      "  if not layout[ax.rowNum + 1, ax.colNum]:\n",
      "/Users/feng/Tools/miniconda3/lib/python3.7/site-packages/pandas/plotting/_tools.py:313: MatplotlibDeprecationWarning: \n",
      "The colNum attribute was deprecated in Matplotlib 3.2 and will be removed two minor releases later. Use ax.get_subplotspec().colspan.start instead.\n",
      "  if not layout[ax.rowNum + 1, ax.colNum]:\n"
     ]
    },
    {
     "data": {
      "text/plain": [
       "[]"
      ]
     },
     "execution_count": 211,
     "metadata": {},
     "output_type": "execute_result"
    },
    {
     "data": {
      "image/png": "[encoded data removed]",
      "text/plain": [
       "<Figure size 1008x864 with 2 Axes>"
      ]
     },
     "metadata": {},
     "output_type": "display_data"
    }
   ],
   "source": [
    "risk = QA.QA_Risk(account=AC, benchmark_code=benchmark_code, benchmark_type=QA.MARKET_TYPE.INDEX_CN, if_fq=False)\n",
    "risk.save()\n",
    "\n",
    "print(risk.message)\n",
    "fig=risk.plot_assets_curve()\n",
    "\n",
    "fig.plot()"
   ]
  },
  {
   "cell_type": "code",
   "execution_count": null,
   "metadata": {},
   "outputs": [],
   "source": []
  }
 ],
 "metadata": {
  "kernelspec": {
   "display_name": "Python 3",
   "language": "python",
   "name": "python3"
  },
  "language_info": {
   "codemirror_mode": {
    "name": "ipython",
    "version": 3
   },
   "file_extension": ".py",
   "mimetype": "text/x-python",
   "name": "python",
   "nbconvert_exporter": "python",
   "pygments_lexer": "ipython3",
   "version": "3.7.6"
  }
 },
 "nbformat": 4,
 "nbformat_minor": 4
}
